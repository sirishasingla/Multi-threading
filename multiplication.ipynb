{
 "cells": [
  {
   "cell_type": "code",
   "execution_count": 3,
   "metadata": {},
   "outputs": [],
   "source": [
    "import numpy as np\n",
    "import time\n",
    "from multiprocessing import Pool\n",
    "import matplotlib.pyplot as plt"
   ]
  },
  {
   "cell_type": "code",
   "execution_count": 4,
   "metadata": {},
   "outputs": [],
   "source": [
    "def multiply_matrices(seed):\n",
    "    np.random.seed(seed)\n",
    "    A = np.random.rand(10, 10)\n",
    "    B = np.random.rand(10, 10)\n",
    "    return np.dot(A, B)\n"
   ]
  },
  {
   "cell_type": "code",
   "execution_count": 5,
   "metadata": {},
   "outputs": [],
   "source": [
    "def task(num_matrices, num_threads):\n",
    "    start_time = time.time()\n",
    "    with Pool(num_threads) as p:\n",
    "        results = p.map(multiply_matrices, range(num_matrices))\n",
    "    end_time = time.time()\n",
    "    total_time = end_time - start_time\n",
    "    return total_time\n"
   ]
  },
  {
   "cell_type": "code",
   "execution_count": 6,
   "metadata": {},
   "outputs": [],
   "source": [
    "num_matrices = 100\n",
    "num_threads_range = range(1, 9)  # Range of number of threads\n",
    "time_taken = []  # To store time taken for each number of threads\n"
   ]
  },
  {
   "cell_type": "code",
   "execution_count": 7,
   "metadata": {},
   "outputs": [
    {
     "name": "stdout",
     "output_type": "stream",
     "text": [
      "Program Started....\n"
     ]
    }
   ],
   "source": [
    "\n",
    "print(\"Program Started....\")\n",
    "# Main loop to run the task function with different numbers of threads\n",
    "for num_threads in num_threads_range:\n",
    "    total_time = task(num_matrices, num_threads)\n",
    "    time_taken.append(total_time)\n",
    "\n",
    "    print(f\"T = {num_threads}\\t\\t{total_time:.2f}\")\n",
    "\n",
    "# Generate the table\n",
    "print(\"\\nThreads\\t\\tTime Taken(sec)\")\n",
    "for i in range(len(num_threads_range)):\n",
    "    print(f\"T = {num_threads_range[i]}\\t\\t{time_taken[i]:.2f}\")\n"
   ]
  },
  {
   "cell_type": "code",
   "execution_count": 1,
   "metadata": {},
   "outputs": [
    {
     "ename": "NameError",
     "evalue": "name 'time' is not defined",
     "output_type": "error",
     "traceback": [
      "\u001b[1;31m---------------------------------------------------------------------------\u001b[0m",
      "\u001b[1;31mNameError\u001b[0m                                 Traceback (most recent call last)",
      "Cell \u001b[1;32mIn[1], line 2\u001b[0m\n\u001b[0;32m      1\u001b[0m \u001b[38;5;28;01mif\u001b[39;00m \u001b[38;5;18m__name__\u001b[39m \u001b[38;5;241m==\u001b[39m \u001b[38;5;124m'\u001b[39m\u001b[38;5;124m__main__\u001b[39m\u001b[38;5;124m'\u001b[39m:\n\u001b[1;32m----> 2\u001b[0m     startTime \u001b[38;5;241m=\u001b[39m \u001b[43mtime\u001b[49m\u001b[38;5;241m.\u001b[39mtime()\n\u001b[0;32m      3\u001b[0m     num_matrices \u001b[38;5;241m=\u001b[39m \u001b[38;5;241m100\u001b[39m\n\u001b[0;32m      4\u001b[0m     num_threads_range \u001b[38;5;241m=\u001b[39m \u001b[38;5;28mrange\u001b[39m(\u001b[38;5;241m1\u001b[39m, \u001b[38;5;241m9\u001b[39m)  \u001b[38;5;66;03m# Range of number of threads\u001b[39;00m\n",
      "\u001b[1;31mNameError\u001b[0m: name 'time' is not defined"
     ]
    }
   ],
   "source": [
    "\n",
    "# if __name__ == '__main__':\n",
    "#     startTime = time.time()\n",
    "#     num_matrices = 100\n",
    "#     num_threads_range = range(1, 9)  # Range of number of threads\n",
    "#     time_taken = []  # To store time taken for each number of threads\n",
    "\n",
    "#     print(\"Program Started....\")\n",
    "\n",
    "#     # Main loop to run the task function with different numbers of threads\n",
    "#     for num_threads in num_threads_range:\n",
    "#         total_time = task(num_matrices, num_threads)\n",
    "#         time_taken.append(total_time)\n",
    "\n",
    "#         print(f\"T = {num_threads}\\t\\t{total_time:.2f}\")\n",
    "\n",
    "#     # Generate the table\n",
    "#     print(\"\\nThreads\\t\\tTime Taken(sec)\")\n",
    "#     for i in range(len(num_threads_range)):\n",
    "#         print(f\"T = {num_threads_range[i]}\\t\\t{time_taken[i]:.2f}\")\n",
    "\n"
   ]
  },
  {
   "cell_type": "code",
   "execution_count": 2,
   "metadata": {},
   "outputs": [
    {
     "ename": "NameError",
     "evalue": "name 'plt' is not defined",
     "output_type": "error",
     "traceback": [
      "\u001b[1;31m---------------------------------------------------------------------------\u001b[0m",
      "\u001b[1;31mNameError\u001b[0m                                 Traceback (most recent call last)",
      "Cell \u001b[1;32mIn[2], line 2\u001b[0m\n\u001b[0;32m      1\u001b[0m \u001b[38;5;66;03m# Generate the graph\u001b[39;00m\n\u001b[1;32m----> 2\u001b[0m \u001b[43mplt\u001b[49m\u001b[38;5;241m.\u001b[39mplot(num_threads_range, time_taken, marker\u001b[38;5;241m=\u001b[39m\u001b[38;5;124m'\u001b[39m\u001b[38;5;124mo\u001b[39m\u001b[38;5;124m'\u001b[39m)\n\u001b[0;32m      3\u001b[0m plt\u001b[38;5;241m.\u001b[39mxlabel(\u001b[38;5;124m'\u001b[39m\u001b[38;5;124mThreads\u001b[39m\u001b[38;5;124m'\u001b[39m)\n\u001b[0;32m      4\u001b[0m plt\u001b[38;5;241m.\u001b[39mylabel(\u001b[38;5;124m'\u001b[39m\u001b[38;5;124mTime Taken (sec)\u001b[39m\u001b[38;5;124m'\u001b[39m)\n",
      "\u001b[1;31mNameError\u001b[0m: name 'plt' is not defined"
     ]
    }
   ],
   "source": [
    "    # Generate the graph\n",
    "plt.plot(num_threads_range, time_taken, marker='o')\n",
    "plt.xlabel('Threads')\n",
    "plt.ylabel('Time Taken (sec)')\n",
    "plt.title('Number of Threads vs Time Taken')\n",
    "plt.grid(True)\n",
    "plt.show()\n",
    "print(\"Total Time %f sec\" % (round(time.time() - startTime, 4)))\n"
   ]
  },
  {
   "cell_type": "code",
   "execution_count": null,
   "metadata": {},
   "outputs": [],
   "source": []
  }
 ],
 "metadata": {
  "kernelspec": {
   "display_name": "Python 3",
   "language": "python",
   "name": "python3"
  },
  "language_info": {
   "codemirror_mode": {
    "name": "ipython",
    "version": 3
   },
   "file_extension": ".py",
   "mimetype": "text/x-python",
   "name": "python",
   "nbconvert_exporter": "python",
   "pygments_lexer": "ipython3",
   "version": "3.11.1"
  }
 },
 "nbformat": 4,
 "nbformat_minor": 2
}
